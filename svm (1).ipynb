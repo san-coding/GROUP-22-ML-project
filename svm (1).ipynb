{
  "nbformat": 4,
  "nbformat_minor": 0,
  "metadata": {
    "kernelspec": {
      "display_name": "Python 3",
      "language": "python",
      "name": "python3"
    },
    "language_info": {
      "codemirror_mode": {
        "name": "ipython",
        "version": 3
      },
      "file_extension": ".py",
      "mimetype": "text/x-python",
      "name": "python",
      "nbconvert_exporter": "python",
      "pygments_lexer": "ipython3",
      "version": "3.7.4"
    },
    "colab": {
      "name": "svm.ipynb",
      "provenance": [],
      "collapsed_sections": []
    },
    "accelerator": "TPU"
  },
  "cells": [
    {
      "cell_type": "code",
      "metadata": {
        "id": "oOJrfDO46VeZ",
        "colab_type": "code",
        "colab": {}
      },
      "source": [
        "# -*- coding: utf-8 -*-\n",
        "\"\"\"\n",
        "Created on Thu May  7 14:15:54 2020\n",
        "\n",
        "@author: NDH00360\n",
        "\"\"\"\n",
        "import sklearn\n",
        "import pandas as pd\n",
        "import numpy as np \n",
        "from sklearn.preprocessing import StandardScaler \n",
        "\n",
        "import pickle\n",
        "\n",
        "\n",
        "from sklearn.preprocessing import LabelEncoder\n",
        "\n",
        "from sklearn.model_selection import train_test_split\n",
        "from sklearn.svm import SVC"
      ],
      "execution_count": 1,
      "outputs": []
    },
    {
      "cell_type": "code",
      "metadata": {
        "id": "49EeKahE6Vei",
        "colab_type": "code",
        "colab": {}
      },
      "source": [
        ""
      ],
      "execution_count": 1,
      "outputs": []
    },
    {
      "cell_type": "code",
      "metadata": {
        "id": "mFZxcxhG6Ven",
        "colab_type": "code",
        "colab": {}
      },
      "source": [
        "'''\n",
        "This is the program for prediciton of category of attack from UNSW dataset\n",
        "\n",
        "'''\n",
        "df=pd.read_csv(r\"features_having_most_influence_on_UNSW.csv\")\n",
        "#df=df[:200000]\n",
        "\n",
        "\n",
        "\n",
        "## We will drop all the unnessary column \n",
        "df1=df.drop(['pkSeqID','sport','dport'], axis=1)\n",
        "\n",
        "\n",
        "## We use label encoder to encode categorical data\n",
        "lb_make = LabelEncoder()\n",
        "df1['subcategory'] = lb_make.fit_transform(df1['subcategory'])\n",
        "df1['saddr'] = lb_make.fit_transform(df1['saddr'])\n",
        "df1['daddr'] = lb_make.fit_transform(df1['daddr'])\n",
        "df1['proto'] = lb_make.fit_transform(df1['proto'])\n",
        "\n",
        "\n",
        "\n",
        "\n",
        "replace_map = {'category': {'DoS': 1, 'DDoS': 2, 'Normal': 3, 'Theft': 4,'Reconnaissance':5}}\n",
        "\n",
        "df1.replace(replace_map, inplace=True)\n",
        "\n",
        "\n",
        "##saving in different dataframe\n",
        "df2=df1\n",
        "\n",
        "##obtaining test and train set\n",
        "X = df2.drop('category', axis=1)\n",
        "y = df2['category']\n",
        "X1 = df2.drop('category', axis=1)\n",
        "\n",
        "\n",
        "\n",
        "## scalling data for faster traning set and accuray on SVM poko\n",
        "scaler = StandardScaler()\n",
        "\n",
        "X=scaler.fit_transform(X)\n",
        "\n",
        "\n",
        "\n",
        "\n",
        "\n",
        "\n",
        "\n"
      ],
      "execution_count": 85,
      "outputs": []
    },
    {
      "cell_type": "code",
      "metadata": {
        "id": "D_GsrEYfSPkF",
        "colab_type": "code",
        "colab": {}
      },
      "source": [
        ""
      ],
      "execution_count": null,
      "outputs": []
    },
    {
      "cell_type": "code",
      "metadata": {
        "id": "MfpMGHSL6Vev",
        "colab_type": "code",
        "colab": {
          "base_uri": "https://localhost:8080/",
          "height": 119
        },
        "outputId": "5893ca4e-4275-4637-b0d2-3b6a4e404498"
      },
      "source": [
        "df['saddr'].nunique()\n",
        "df['saddr'].unique()\n"
      ],
      "execution_count": 33,
      "outputs": [
        {
          "output_type": "execute_result",
          "data": {
            "text/plain": [
              "array(['192.168.100.150', '192.168.100.148', '192.168.100.149',\n",
              "       '192.168.100.147', '192.168.100.5', '192.168.100.3',\n",
              "       '192.168.100.6', '192.168.100.7', '192.168.100.46',\n",
              "       'fe80::250:56ff:febe:e9d9', 'fe80::250:56ff:febe:bf1a',\n",
              "       'fe80::c0c0:aa20:45b9:bdd9', '192.168.100.1', '192.168.100.4',\n",
              "       'fe80::250:56ff:febe:254', '192.168.100.27'], dtype=object)"
            ]
          },
          "metadata": {
            "tags": []
          },
          "execution_count": 33
        }
      ]
    },
    {
      "cell_type": "code",
      "metadata": {
        "id": "ia5njm5B6Ve0",
        "colab_type": "code",
        "colab": {
          "base_uri": "https://localhost:8080/",
          "height": 34
        },
        "outputId": "00c26acf-29d9-4489-b0d7-cee9b4977cbb"
      },
      "source": [
        "df['daddr'].nunique()\n"
      ],
      "execution_count": 34,
      "outputs": [
        {
          "output_type": "execute_result",
          "data": {
            "text/plain": [
              "45"
            ]
          },
          "metadata": {
            "tags": []
          },
          "execution_count": 34
        }
      ]
    },
    {
      "cell_type": "code",
      "metadata": {
        "id": "NuB1g3Wc6Ve5",
        "colab_type": "code",
        "colab": {
          "base_uri": "https://localhost:8080/",
          "height": 34
        },
        "outputId": "c64b1a73-f4e6-4693-e906-e97a3b784f9a"
      },
      "source": [
        "df['proto'].unique()\n"
      ],
      "execution_count": 35,
      "outputs": [
        {
          "output_type": "execute_result",
          "data": {
            "text/plain": [
              "array(['udp', 'tcp', 'icmp', 'arp', 'ipv6-icmp'], dtype=object)"
            ]
          },
          "metadata": {
            "tags": []
          },
          "execution_count": 35
        }
      ]
    },
    {
      "cell_type": "code",
      "metadata": {
        "id": "Ak3qWvz56Ve-",
        "colab_type": "code",
        "colab": {
          "base_uri": "https://localhost:8080/",
          "height": 34
        },
        "outputId": "e0a54b38-c16c-439f-d19f-142c63c13358"
      },
      "source": [
        "df['dport'].nunique()\n"
      ],
      "execution_count": 36,
      "outputs": [
        {
          "output_type": "execute_result",
          "data": {
            "text/plain": [
              "4111"
            ]
          },
          "metadata": {
            "tags": []
          },
          "execution_count": 36
        }
      ]
    },
    {
      "cell_type": "code",
      "metadata": {
        "id": "aXKP9TlG6VfC",
        "colab_type": "code",
        "colab": {
          "base_uri": "https://localhost:8080/",
          "height": 34
        },
        "outputId": "de32fe39-ae7d-4ae5-ad0e-0d8d49760d42"
      },
      "source": [
        "df['sport'].nunique()"
      ],
      "execution_count": 37,
      "outputs": [
        {
          "output_type": "execute_result",
          "data": {
            "text/plain": [
              "65538"
            ]
          },
          "metadata": {
            "tags": []
          },
          "execution_count": 37
        }
      ]
    },
    {
      "cell_type": "code",
      "metadata": {
        "id": "zv6rzsUE6VfF",
        "colab_type": "code",
        "colab": {}
      },
      "source": [
        "X_train, X_test, y_train, y_test = train_test_split(X, y, test_size = 0.20)\n"
      ],
      "execution_count": 38,
      "outputs": []
    },
    {
      "cell_type": "code",
      "metadata": {
        "id": "KVKE5uLa6VfI",
        "colab_type": "code",
        "colab": {
          "base_uri": "https://localhost:8080/",
          "height": 153
        },
        "outputId": "82de4ae6-895a-486d-f246-fa466f667972"
      },
      "source": [
        "from sklearn.ensemble import ExtraTreesClassifier\n",
        "import matplotlib.pyplot as plt\n",
        "model = ExtraTreesClassifier()\n",
        "model.fit(X,y)"
      ],
      "execution_count": 39,
      "outputs": [
        {
          "output_type": "execute_result",
          "data": {
            "text/plain": [
              "ExtraTreesClassifier(bootstrap=False, ccp_alpha=0.0, class_weight=None,\n",
              "                     criterion='gini', max_depth=None, max_features='auto',\n",
              "                     max_leaf_nodes=None, max_samples=None,\n",
              "                     min_impurity_decrease=0.0, min_impurity_split=None,\n",
              "                     min_samples_leaf=1, min_samples_split=2,\n",
              "                     min_weight_fraction_leaf=0.0, n_estimators=100,\n",
              "                     n_jobs=None, oob_score=False, random_state=None, verbose=0,\n",
              "                     warm_start=False)"
            ]
          },
          "metadata": {
            "tags": []
          },
          "execution_count": 39
        }
      ]
    },
    {
      "cell_type": "code",
      "metadata": {
        "id": "iwj24iTy6VfL",
        "colab_type": "code",
        "colab": {
          "base_uri": "https://localhost:8080/",
          "height": 34
        },
        "outputId": "468ac1f4-9a4a-45db-c34e-55e4a652caea"
      },
      "source": [
        "print(type(X))"
      ],
      "execution_count": 40,
      "outputs": [
        {
          "output_type": "stream",
          "text": [
            "<class 'numpy.ndarray'>\n"
          ],
          "name": "stdout"
        }
      ]
    },
    {
      "cell_type": "code",
      "metadata": {
        "id": "bmIpcfOa6VfO",
        "colab_type": "code",
        "colab": {
          "base_uri": "https://localhost:8080/",
          "height": 85
        },
        "outputId": "3a0111c6-f143-47e0-a741-9849c5cf33bc"
      },
      "source": [
        "relevence_scores=(model.feature_importances_)\n",
        "print((relevence_scores))\n"
      ],
      "execution_count": 41,
      "outputs": [
        {
          "output_type": "stream",
          "text": [
            "[3.19852386e-02 5.92986560e-02 3.16965422e-01 2.97896782e-02\n",
            " 5.69780146e-02 2.42051799e-02 6.09527779e-02 2.93330757e-02\n",
            " 6.71753702e-02 1.17421702e-01 4.74559998e-03 7.31204107e-02\n",
            " 7.25198484e-02 2.34050050e-04 5.52749761e-02]\n"
          ],
          "name": "stdout"
        }
      ]
    },
    {
      "cell_type": "code",
      "metadata": {
        "id": "M3MjeOf_6VfR",
        "colab_type": "code",
        "colab": {
          "base_uri": "https://localhost:8080/",
          "height": 265
        },
        "outputId": "320a65db-9bcd-4689-b53a-56d92d197a19"
      },
      "source": [
        "feat_importances = pd.Series(model.feature_importances_, index=X1.columns)\n",
        "feat_importances.nlargest(14).plot(kind='barh')\n",
        "plt.show()"
      ],
      "execution_count": 42,
      "outputs": [
        {
          "output_type": "display_data",
          "data": {
            "image/png": "[encoded data removed]",
            "text/plain": [
              "<Figure size 432x288 with 1 Axes>"
            ]
          },
          "metadata": {
            "tags": [],
            "needs_background": "light"
          }
        }
      ]
    },
    {
      "cell_type": "code",
      "metadata": {
        "id": "dAH7IoYL6VfU",
        "colab_type": "code",
        "colab": {
          "base_uri": "https://localhost:8080/",
          "height": 85
        },
        "outputId": "4660c4da-7987-474f-dfb9-775afa61b5a6"
      },
      "source": [
        "svclassifier = SVC(kernel='poly')\n",
        "svclassifier.fit(X_train, y_train)"
      ],
      "execution_count": 44,
      "outputs": [
        {
          "output_type": "execute_result",
          "data": {
            "text/plain": [
              "SVC(C=1.0, break_ties=False, cache_size=200, class_weight=None, coef0=0.0,\n",
              "    decision_function_shape='ovr', degree=3, gamma='scale', kernel='poly',\n",
              "    max_iter=-1, probability=False, random_state=None, shrinking=True,\n",
              "    tol=0.001, verbose=False)"
            ]
          },
          "metadata": {
            "tags": []
          },
          "execution_count": 44
        }
      ]
    },
    {
      "cell_type": "code",
      "metadata": {
        "id": "ydxMeGc06VfW",
        "colab_type": "code",
        "colab": {}
      },
      "source": [
        "##Saving the model into pickle file\n",
        "filename = 'UNSW_SVM_model.sav'\n",
        "pickle.dump(svclassifier, open(filename, 'wb'))"
      ],
      "execution_count": 45,
      "outputs": []
    },
    {
      "cell_type": "code",
      "metadata": {
        "id": "FnDbp_yt6VfZ",
        "colab_type": "code",
        "colab": {
          "base_uri": "https://localhost:8080/",
          "height": 306
        },
        "outputId": "50807871-5f3d-49a3-afa1-a8aeba7ac2e7"
      },
      "source": [
        "y_pred = svclassifier.predict(X_test)\n",
        "\n",
        "\n",
        "\n",
        "from sklearn.metrics import classification_report, confusion_matrix\n",
        "print(confusion_matrix(y_test,y_pred))\n",
        "print(classification_report(y_test,y_pred))"
      ],
      "execution_count": 46,
      "outputs": [
        {
          "output_type": "stream",
          "text": [
            "[[65865   139     0     1     0]\n",
            " [  409 76700     0     0     0]\n",
            " [    0     0    22     0     0]\n",
            " [    0     0     0     4     0]\n",
            " [    0     0     0     0  3601]]\n",
            "              precision    recall  f1-score   support\n",
            "\n",
            "           1       0.99      1.00      1.00     66005\n",
            "           2       1.00      0.99      1.00     77109\n",
            "           3       1.00      1.00      1.00        22\n",
            "           4       0.80      1.00      0.89         4\n",
            "           5       1.00      1.00      1.00      3601\n",
            "\n",
            "    accuracy                           1.00    146741\n",
            "   macro avg       0.96      1.00      0.98    146741\n",
            "weighted avg       1.00      1.00      1.00    146741\n",
            "\n"
          ],
          "name": "stdout"
        }
      ]
    },
    {
      "cell_type": "code",
      "metadata": {
        "id": "2SRsk1yt6Vfc",
        "colab_type": "code",
        "colab": {
          "base_uri": "https://localhost:8080/",
          "height": 34
        },
        "outputId": "553eea5d-0bc9-4c8a-cf8c-d44603d74e9f"
      },
      "source": [
        "##Loadning the pickle file\n",
        "\n",
        "loaded_model = pickle.load(open('UNSW_SVM_model.sav', 'rb'))\n",
        "\n",
        "#df_test=pd.read_csv(r\"C:\\Users\\NDH00360\\Desktop\\TestExe\\features_having_most_influence_on_UNSW.csv\")\n",
        "\n",
        "result = loaded_model.score(X_test, y_test)\n",
        "print(\"Overall score=\",result)"
      ],
      "execution_count": 47,
      "outputs": [
        {
          "output_type": "stream",
          "text": [
            "Overall score= 0.9962587143334174\n"
          ],
          "name": "stdout"
        }
      ]
    },
    {
      "cell_type": "code",
      "metadata": {
        "id": "Wl4ssSBRQbP_",
        "colab_type": "code",
        "colab": {
          "base_uri": "https://localhost:8080/",
          "height": 34
        },
        "outputId": "84eb76e0-43e1-4446-f5f4-f8c36057adde"
      },
      "source": [
        "146741*5"
      ],
      "execution_count": 49,
      "outputs": [
        {
          "output_type": "execute_result",
          "data": {
            "text/plain": [
              "733705"
            ]
          },
          "metadata": {
            "tags": []
          },
          "execution_count": 49
        }
      ]
    },
    {
      "cell_type": "code",
      "metadata": {
        "id": "aK2MY09_RTyI",
        "colab_type": "code",
        "colab": {
          "base_uri": "https://localhost:8080/",
          "height": 34
        },
        "outputId": "c8a4d0a2-99d4-4a60-8552-0737d9ef1996"
      },
      "source": [
        "df.shape"
      ],
      "execution_count": 50,
      "outputs": [
        {
          "output_type": "execute_result",
          "data": {
            "text/plain": [
              "(733705, 19)"
            ]
          },
          "metadata": {
            "tags": []
          },
          "execution_count": 50
        }
      ]
    },
    {
      "cell_type": "code",
      "metadata": {
        "id": "G9psKN9hSSDg",
        "colab_type": "code",
        "colab": {
          "base_uri": "https://localhost:8080/",
          "height": 34
        },
        "outputId": "148bbe0d-a262-4eab-fce2-94ac09d77fa8"
      },
      "source": [
        "sklearn.metrics.accuracy_score(y_test,y_pred)"
      ],
      "execution_count": 51,
      "outputs": [
        {
          "output_type": "execute_result",
          "data": {
            "text/plain": [
              "0.9962587143334174"
            ]
          },
          "metadata": {
            "tags": []
          },
          "execution_count": 51
        }
      ]
    },
    {
      "cell_type": "code",
      "metadata": {
        "id": "-xr8P99MU51i",
        "colab_type": "code",
        "colab": {}
      },
      "source": [
        "transformed = pd.DataFrame(X, columns =X1.columns)"
      ],
      "execution_count": 88,
      "outputs": []
    },
    {
      "cell_type": "code",
      "metadata": {
        "id": "QUZ-p0QpaqA0",
        "colab_type": "code",
        "colab": {
          "base_uri": "https://localhost:8080/",
          "height": 224
        },
        "outputId": "b81ad8c7-066e-4966-bafa-7616cf004ea3"
      },
      "source": [
        "transformed.head()"
      ],
      "execution_count": 89,
      "outputs": [
        {
          "output_type": "execute_result",
          "data": {
            "text/html": [
              "<div>\n",
              "<style scoped>\n",
              "    .dataframe tbody tr th:only-of-type {\n",
              "        vertical-align: middle;\n",
              "    }\n",
              "\n",
              "    .dataframe tbody tr th {\n",
              "        vertical-align: top;\n",
              "    }\n",
              "\n",
              "    .dataframe thead th {\n",
              "        text-align: right;\n",
              "    }\n",
              "</style>\n",
              "<table border=\"1\" class=\"dataframe\">\n",
              "  <thead>\n",
              "    <tr style=\"text-align: right;\">\n",
              "      <th></th>\n",
              "      <th>proto</th>\n",
              "      <th>saddr</th>\n",
              "      <th>daddr</th>\n",
              "      <th>seq</th>\n",
              "      <th>stddev</th>\n",
              "      <th>N_IN_Conn_P_SrcIP</th>\n",
              "      <th>min</th>\n",
              "      <th>state_number</th>\n",
              "      <th>mean</th>\n",
              "      <th>N_IN_Conn_P_DstIP</th>\n",
              "      <th>drate</th>\n",
              "      <th>srate</th>\n",
              "      <th>max</th>\n",
              "      <th>attack</th>\n",
              "      <th>subcategory</th>\n",
              "    </tr>\n",
              "  </thead>\n",
              "  <tbody>\n",
              "    <tr>\n",
              "      <th>0</th>\n",
              "      <td>0.896043</td>\n",
              "      <td>1.302673</td>\n",
              "      <td>-0.667194</td>\n",
              "      <td>0.707977</td>\n",
              "      <td>-0.822264</td>\n",
              "      <td>0.716751</td>\n",
              "      <td>2.076200</td>\n",
              "      <td>0.729019</td>\n",
              "      <td>1.465469</td>\n",
              "      <td>0.41569</td>\n",
              "      <td>-0.006811</td>\n",
              "      <td>-0.004605</td>\n",
              "      <td>0.911708</td>\n",
              "      <td>0.012077</td>\n",
              "      <td>0.843291</td>\n",
              "    </tr>\n",
              "    <tr>\n",
              "      <th>1</th>\n",
              "      <td>-1.049722</td>\n",
              "      <td>-0.422693</td>\n",
              "      <td>-0.667194</td>\n",
              "      <td>0.285020</td>\n",
              "      <td>-0.542151</td>\n",
              "      <td>0.716751</td>\n",
              "      <td>1.630732</td>\n",
              "      <td>-1.799584</td>\n",
              "      <td>1.036355</td>\n",
              "      <td>0.41569</td>\n",
              "      <td>-0.003783</td>\n",
              "      <td>-0.004613</td>\n",
              "      <td>0.763106</td>\n",
              "      <td>0.012077</td>\n",
              "      <td>-0.866815</td>\n",
              "    </tr>\n",
              "    <tr>\n",
              "      <th>2</th>\n",
              "      <td>0.896043</td>\n",
              "      <td>0.439990</td>\n",
              "      <td>-0.667194</td>\n",
              "      <td>0.601664</td>\n",
              "      <td>1.298064</td>\n",
              "      <td>-0.388623</td>\n",
              "      <td>-0.686460</td>\n",
              "      <td>0.729019</td>\n",
              "      <td>0.328007</td>\n",
              "      <td>0.41569</td>\n",
              "      <td>-0.006811</td>\n",
              "      <td>-0.004599</td>\n",
              "      <td>0.599473</td>\n",
              "      <td>0.012077</td>\n",
              "      <td>0.843291</td>\n",
              "    </tr>\n",
              "    <tr>\n",
              "      <th>3</th>\n",
              "      <td>-1.049722</td>\n",
              "      <td>-0.422693</td>\n",
              "      <td>-0.667194</td>\n",
              "      <td>1.097316</td>\n",
              "      <td>-0.571006</td>\n",
              "      <td>-1.084599</td>\n",
              "      <td>1.517646</td>\n",
              "      <td>-1.799584</td>\n",
              "      <td>0.917913</td>\n",
              "      <td>0.41569</td>\n",
              "      <td>-0.006811</td>\n",
              "      <td>-0.004756</td>\n",
              "      <td>0.648511</td>\n",
              "      <td>0.012077</td>\n",
              "      <td>-0.866815</td>\n",
              "    </tr>\n",
              "    <tr>\n",
              "      <th>4</th>\n",
              "      <td>-1.049722</td>\n",
              "      <td>0.439990</td>\n",
              "      <td>0.636060</td>\n",
              "      <td>-1.072952</td>\n",
              "      <td>1.455808</td>\n",
              "      <td>0.716751</td>\n",
              "      <td>-0.686460</td>\n",
              "      <td>-0.113849</td>\n",
              "      <td>-0.688615</td>\n",
              "      <td>0.41569</td>\n",
              "      <td>-0.006811</td>\n",
              "      <td>-0.005271</td>\n",
              "      <td>0.930083</td>\n",
              "      <td>0.012077</td>\n",
              "      <td>-0.866815</td>\n",
              "    </tr>\n",
              "  </tbody>\n",
              "</table>\n",
              "</div>"
            ],
            "text/plain": [
              "      proto     saddr     daddr  ...       max    attack  subcategory\n",
              "0  0.896043  1.302673 -0.667194  ...  0.911708  0.012077     0.843291\n",
              "1 -1.049722 -0.422693 -0.667194  ...  0.763106  0.012077    -0.866815\n",
              "2  0.896043  0.439990 -0.667194  ...  0.599473  0.012077     0.843291\n",
              "3 -1.049722 -0.422693 -0.667194  ...  0.648511  0.012077    -0.866815\n",
              "4 -1.049722  0.439990  0.636060  ...  0.930083  0.012077    -0.866815\n",
              "\n",
              "[5 rows x 15 columns]"
            ]
          },
          "metadata": {
            "tags": []
          },
          "execution_count": 89
        }
      ]
    },
    {
      "cell_type": "code",
      "metadata": {
        "id": "qHtJnLpZblZ2",
        "colab_type": "code",
        "colab": {
          "base_uri": "https://localhost:8080/",
          "height": 204
        },
        "outputId": "c0dbff80-1752-4ca0-f857-92c8a76548e4"
      },
      "source": [
        "X1.head()"
      ],
      "execution_count": 90,
      "outputs": [
        {
          "output_type": "execute_result",
          "data": {
            "text/html": [
              "<div>\n",
              "<style scoped>\n",
              "    .dataframe tbody tr th:only-of-type {\n",
              "        vertical-align: middle;\n",
              "    }\n",
              "\n",
              "    .dataframe tbody tr th {\n",
              "        vertical-align: top;\n",
              "    }\n",
              "\n",
              "    .dataframe thead th {\n",
              "        text-align: right;\n",
              "    }\n",
              "</style>\n",
              "<table border=\"1\" class=\"dataframe\">\n",
              "  <thead>\n",
              "    <tr style=\"text-align: right;\">\n",
              "      <th></th>\n",
              "      <th>proto</th>\n",
              "      <th>saddr</th>\n",
              "      <th>daddr</th>\n",
              "      <th>seq</th>\n",
              "      <th>stddev</th>\n",
              "      <th>N_IN_Conn_P_SrcIP</th>\n",
              "      <th>min</th>\n",
              "      <th>state_number</th>\n",
              "      <th>mean</th>\n",
              "      <th>N_IN_Conn_P_DstIP</th>\n",
              "      <th>drate</th>\n",
              "      <th>srate</th>\n",
              "      <th>max</th>\n",
              "      <th>attack</th>\n",
              "      <th>subcategory</th>\n",
              "    </tr>\n",
              "  </thead>\n",
              "  <tbody>\n",
              "    <tr>\n",
              "      <th>0</th>\n",
              "      <td>4</td>\n",
              "      <td>4</td>\n",
              "      <td>12</td>\n",
              "      <td>175094</td>\n",
              "      <td>0.226784</td>\n",
              "      <td>100</td>\n",
              "      <td>4.100436</td>\n",
              "      <td>4</td>\n",
              "      <td>4.457383</td>\n",
              "      <td>100</td>\n",
              "      <td>0.000000</td>\n",
              "      <td>0.404711</td>\n",
              "      <td>4.719438</td>\n",
              "      <td>1</td>\n",
              "      <td>6</td>\n",
              "    </tr>\n",
              "    <tr>\n",
              "      <th>1</th>\n",
              "      <td>3</td>\n",
              "      <td>2</td>\n",
              "      <td>12</td>\n",
              "      <td>143024</td>\n",
              "      <td>0.451998</td>\n",
              "      <td>100</td>\n",
              "      <td>3.439257</td>\n",
              "      <td>1</td>\n",
              "      <td>3.806172</td>\n",
              "      <td>100</td>\n",
              "      <td>0.225077</td>\n",
              "      <td>0.401397</td>\n",
              "      <td>4.442930</td>\n",
              "      <td>1</td>\n",
              "      <td>5</td>\n",
              "    </tr>\n",
              "    <tr>\n",
              "      <th>2</th>\n",
              "      <td>4</td>\n",
              "      <td>3</td>\n",
              "      <td>12</td>\n",
              "      <td>167033</td>\n",
              "      <td>1.931553</td>\n",
              "      <td>73</td>\n",
              "      <td>0.000000</td>\n",
              "      <td>4</td>\n",
              "      <td>2.731204</td>\n",
              "      <td>100</td>\n",
              "      <td>0.000000</td>\n",
              "      <td>0.407287</td>\n",
              "      <td>4.138455</td>\n",
              "      <td>1</td>\n",
              "      <td>6</td>\n",
              "    </tr>\n",
              "    <tr>\n",
              "      <th>3</th>\n",
              "      <td>3</td>\n",
              "      <td>2</td>\n",
              "      <td>12</td>\n",
              "      <td>204615</td>\n",
              "      <td>0.428798</td>\n",
              "      <td>56</td>\n",
              "      <td>3.271411</td>\n",
              "      <td>1</td>\n",
              "      <td>3.626428</td>\n",
              "      <td>100</td>\n",
              "      <td>0.000000</td>\n",
              "      <td>0.343654</td>\n",
              "      <td>4.229700</td>\n",
              "      <td>1</td>\n",
              "      <td>5</td>\n",
              "    </tr>\n",
              "    <tr>\n",
              "      <th>4</th>\n",
              "      <td>3</td>\n",
              "      <td>3</td>\n",
              "      <td>14</td>\n",
              "      <td>40058</td>\n",
              "      <td>2.058381</td>\n",
              "      <td>100</td>\n",
              "      <td>0.000000</td>\n",
              "      <td>3</td>\n",
              "      <td>1.188407</td>\n",
              "      <td>100</td>\n",
              "      <td>0.000000</td>\n",
              "      <td>0.135842</td>\n",
              "      <td>4.753628</td>\n",
              "      <td>1</td>\n",
              "      <td>5</td>\n",
              "    </tr>\n",
              "  </tbody>\n",
              "</table>\n",
              "</div>"
            ],
            "text/plain": [
              "   proto  saddr  daddr     seq  ...     srate       max  attack  subcategory\n",
              "0      4      4     12  175094  ...  0.404711  4.719438       1            6\n",
              "1      3      2     12  143024  ...  0.401397  4.442930       1            5\n",
              "2      4      3     12  167033  ...  0.407287  4.138455       1            6\n",
              "3      3      2     12  204615  ...  0.343654  4.229700       1            5\n",
              "4      3      3     14   40058  ...  0.135842  4.753628       1            5\n",
              "\n",
              "[5 rows x 15 columns]"
            ]
          },
          "metadata": {
            "tags": []
          },
          "execution_count": 90
        }
      ]
    }
  ]
}